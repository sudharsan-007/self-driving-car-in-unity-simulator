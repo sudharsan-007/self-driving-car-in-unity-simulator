{
 "cells": [
  {
   "cell_type": "code",
   "execution_count": 3,
   "metadata": {},
   "outputs": [],
   "source": [
    "import numpy as np\n",
    "import random\n",
    "import matplotlib.pyplot as plt"
   ]
  },
  {
   "cell_type": "code",
   "execution_count": 6,
   "metadata": {},
   "outputs": [
    {
     "data": {
      "text/plain": [
       "<matplotlib.collections.PathCollection at 0x16764c0b448>"
      ]
     },
     "execution_count": 6,
     "metadata": {},
     "output_type": "execute_result"
    },
    {
     "data": {
      "image/png": "[encoded data removed]",
      "text/plain": [
       "<Figure size 432x288 with 1 Axes>"
      ]
     },
     "metadata": {
      "needs_background": "light"
     },
     "output_type": "display_data"
    }
   ],
   "source": [
    "np.random.seed(0)\n",
    "points = 500\n",
    "x = np.linspace(-3,3,points)\n",
    "y = np.sin(x) + np.random.uniform(-0.5,0.5,points)\n",
    "\n",
    "plt.scatter(x,y)"
   ]
  },
  {
   "cell_type": "code",
   "execution_count": 17,
   "metadata": {},
   "outputs": [],
   "source": [
    "from tensorflow.keras.models import Sequential\n",
    "from tensorflow.keras.layers import Dense\n",
    "from tensorflow.keras.optimizers import Adam"
   ]
  },
  {
   "cell_type": "code",
   "execution_count": 19,
   "metadata": {
    "scrolled": true
   },
   "outputs": [
    {
     "name": "stdout",
     "output_type": "stream",
     "text": [
      "Epoch 1/48\n",
      "16/16 [==============================] - 0s 997us/step - loss: 0.4176\n",
      "Epoch 2/48\n",
      "16/16 [==============================] - 0s 810us/step - loss: 0.2535\n",
      "Epoch 3/48\n",
      "16/16 [==============================] - 0s 808us/step - loss: 0.2319\n",
      "Epoch 4/48\n",
      "16/16 [==============================] - 0s 810us/step - loss: 0.2357\n",
      "Epoch 5/48\n",
      "16/16 [==============================] - 0s 748us/step - loss: 0.2379\n",
      "Epoch 6/48\n",
      "16/16 [==============================] - 0s 786us/step - loss: 0.2259\n",
      "Epoch 7/48\n",
      "16/16 [==============================] - 0s 746us/step - loss: 0.2220\n",
      "Epoch 8/48\n",
      "16/16 [==============================] - 0s 750us/step - loss: 0.2032\n",
      "Epoch 9/48\n",
      "16/16 [==============================] - 0s 810us/step - loss: 0.1865\n",
      "Epoch 10/48\n",
      "16/16 [==============================] - 0s 748us/step - loss: 0.1849\n",
      "Epoch 11/48\n",
      "16/16 [==============================] - 0s 873us/step - loss: 0.1710\n",
      "Epoch 12/48\n",
      "16/16 [==============================] - 0s 748us/step - loss: 0.1598\n",
      "Epoch 13/48\n",
      "16/16 [==============================] - 0s 812us/step - loss: 0.1496\n",
      "Epoch 14/48\n",
      "16/16 [==============================] - 0s 810us/step - loss: 0.1426\n",
      "Epoch 15/48\n",
      "16/16 [==============================] - 0s 824us/step - loss: 0.1453\n",
      "Epoch 16/48\n",
      "16/16 [==============================] - 0s 810us/step - loss: 0.1321\n",
      "Epoch 17/48\n",
      "16/16 [==============================] - 0s 810us/step - loss: 0.1284\n",
      "Epoch 18/48\n",
      "16/16 [==============================] - 0s 845us/step - loss: 0.1264\n",
      "Epoch 19/48\n",
      "16/16 [==============================] - 0s 764us/step - loss: 0.1232\n",
      "Epoch 20/48\n",
      "16/16 [==============================] - 0s 746us/step - loss: 0.1350\n",
      "Epoch 21/48\n",
      "16/16 [==============================] - 0s 748us/step - loss: 0.1386\n",
      "Epoch 22/48\n",
      "16/16 [==============================] - 0s 722us/step - loss: 0.1238\n",
      "Epoch 23/48\n",
      "16/16 [==============================] - 0s 747us/step - loss: 0.1214\n",
      "Epoch 24/48\n",
      "16/16 [==============================] - 0s 748us/step - loss: 0.1198\n",
      "Epoch 25/48\n",
      "16/16 [==============================] - 0s 810us/step - loss: 0.1241\n",
      "Epoch 26/48\n",
      "16/16 [==============================] - 0s 748us/step - loss: 0.1173\n",
      "Epoch 27/48\n",
      "16/16 [==============================] - 0s 810us/step - loss: 0.1142\n",
      "Epoch 28/48\n",
      "16/16 [==============================] - 0s 845us/step - loss: 0.1143\n",
      "Epoch 29/48\n",
      "16/16 [==============================] - 0s 808us/step - loss: 0.1124\n",
      "Epoch 30/48\n",
      "16/16 [==============================] - 0s 855us/step - loss: 0.1109\n",
      "Epoch 31/48\n",
      "16/16 [==============================] - 0s 748us/step - loss: 0.1117\n",
      "Epoch 32/48\n",
      "16/16 [==============================] - 0s 935us/step - loss: 0.1080\n",
      "Epoch 33/48\n",
      "16/16 [==============================] - 0s 748us/step - loss: 0.1065\n",
      "Epoch 34/48\n",
      "16/16 [==============================] - 0s 810us/step - loss: 0.1132\n",
      "Epoch 35/48\n",
      "16/16 [==============================] - 0s 874us/step - loss: 0.1086\n",
      "Epoch 36/48\n",
      "16/16 [==============================] - 0s 874us/step - loss: 0.1067\n",
      "Epoch 37/48\n",
      "16/16 [==============================] - 0s 808us/step - loss: 0.1057\n",
      "Epoch 38/48\n",
      "16/16 [==============================] - 0s 788us/step - loss: 0.1021\n",
      "Epoch 39/48\n",
      "16/16 [==============================] - 0s 769us/step - loss: 0.1025\n",
      "Epoch 40/48\n",
      "16/16 [==============================] - 0s 810us/step - loss: 0.0992\n",
      "Epoch 41/48\n",
      "16/16 [==============================] - 0s 748us/step - loss: 0.1012\n",
      "Epoch 42/48\n",
      "16/16 [==============================] - 0s 765us/step - loss: 0.1008\n",
      "Epoch 43/48\n",
      "16/16 [==============================] - 0s 697us/step - loss: 0.1020\n",
      "Epoch 44/48\n",
      "16/16 [==============================] - 0s 748us/step - loss: 0.1001\n",
      "Epoch 45/48\n",
      "16/16 [==============================] - 0s 748us/step - loss: 0.1115\n",
      "Epoch 46/48\n",
      "16/16 [==============================] - 0s 937us/step - loss: 0.1070\n",
      "Epoch 47/48\n",
      "16/16 [==============================] - 0s 812us/step - loss: 0.1016\n",
      "Epoch 48/48\n",
      "16/16 [==============================] - 0s 997us/step - loss: 0.0970\n"
     ]
    },
    {
     "data": {
      "text/plain": [
       "<tensorflow.python.keras.callbacks.History at 0x1670501f508>"
      ]
     },
     "execution_count": 19,
     "metadata": {},
     "output_type": "execute_result"
    }
   ],
   "source": [
    "model = Sequential()\n",
    "model.add(Dense(50, activation='sigmoid',input_dim=1))\n",
    "model.add(Dense(30,activation='sigmoid'))\n",
    "model.add(Dense(1))\n",
    "\n",
    "model.compile(loss ='mse',optimizer=Adam(lr=0.01))\n",
    "model.fit(x,y,epochs=48)"
   ]
  },
  {
   "cell_type": "code",
   "execution_count": 20,
   "metadata": {},
   "outputs": [
    {
     "data": {
      "text/plain": [
       "<matplotlib.collections.PathCollection at 0x1677e673088>"
      ]
     },
     "execution_count": 20,
     "metadata": {},
     "output_type": "execute_result"
    },
    {
     "data": {
      "image/png": "[encoded data removed]",
      "text/plain": [
       "<Figure size 432x288 with 1 Axes>"
      ]
     },
     "metadata": {
      "needs_background": "light"
     },
     "output_type": "display_data"
    }
   ],
   "source": [
    "plt.scatter(x,y)"
   ]
  },
  {
   "cell_type": "code",
   "execution_count": null,
   "metadata": {},
   "outputs": [],
   "source": [
    "predictions = model.predict(x)\n",
    "plt.plot(x,predictions,'ro')"
   ]
  }
 ],
 "metadata": {
  "kernelspec": {
   "display_name": "Python 3.7.7 64-bit ('autonomus_1': conda)",
   "language": "python",
   "name": "python37764bitautonomus1conda69b2f7ea36bd443b9e02e3cf52e4efe4"
  },
  "language_info": {
   "codemirror_mode": {
    "name": "ipython",
    "version": 3
   },
   "file_extension": ".py",
   "mimetype": "text/x-python",
   "name": "python",
   "nbconvert_exporter": "python",
   "pygments_lexer": "ipython3",
   "version": "3.7.7"
  }
 },
 "nbformat": 4,
 "nbformat_minor": 4
}
